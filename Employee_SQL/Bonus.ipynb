{
 "cells": [
  {
   "cell_type": "code",
   "execution_count": 14,
   "id": "04377b33",
   "metadata": {},
   "outputs": [],
   "source": [
    "import sqlalchemy\n",
    "from sqlalchemy import create_engine\n",
    "from sqlalchemy.ext.automap import automap_base\n",
    "from sqlalchemy.orm import Session"
   ]
  },
  {
   "cell_type": "code",
   "execution_count": 3,
   "id": "dc1117f8",
   "metadata": {},
   "outputs": [],
   "source": [
    "#had to install psycopg2\n",
    "engine = create_engine('postgresql://localhost:5432/employees')\n",
    "##how to add password here: https://www.postgresqltutorial.com/postgresql-python/connect/"
   ]
  },
  {
   "cell_type": "code",
   "execution_count": 4,
   "id": "b2b643bc",
   "metadata": {},
   "outputs": [],
   "source": [
    "Base = automap_base()\n",
    "Base.prepare(engine, reflect=True)"
   ]
  },
  {
   "cell_type": "code",
   "execution_count": 16,
   "id": "b4edff70",
   "metadata": {},
   "outputs": [],
   "source": [
    "import psycopg2\n",
    "conn = psycopg2.connect(\"dbname=employees user=postgres password=\")"
   ]
  },
  {
   "cell_type": "code",
   "execution_count": null,
   "id": "faad076f",
   "metadata": {},
   "outputs": [],
   "source": []
  },
  {
   "cell_type": "markdown",
   "id": "a956cd42",
   "metadata": {},
   "source": [
    "Pandas Method"
   ]
  },
  {
   "cell_type": "code",
   "execution_count": 6,
   "id": "6bff862f",
   "metadata": {},
   "outputs": [],
   "source": [
    "import pandas as pd"
   ]
  },
  {
   "cell_type": "code",
   "execution_count": 12,
   "id": "f0f3380b",
   "metadata": {},
   "outputs": [],
   "source": [
    "salaries_df = pd.read_csv(\"data/salaries.csv\")\n",
    "titles_df = pd.read_csv('data/titles.csv')\n",
    "employees_df = pd.read_csv('data/employees.csv')"
   ]
  },
  {
   "cell_type": "code",
   "execution_count": null,
   "id": "e9981785",
   "metadata": {},
   "outputs": [],
   "source": [
    "salary_title_df = "
   ]
  },
  {
   "cell_type": "code",
   "execution_count": null,
   "id": "65473f08",
   "metadata": {},
   "outputs": [],
   "source": []
  },
  {
   "cell_type": "code",
   "execution_count": null,
   "id": "3893b989",
   "metadata": {},
   "outputs": [],
   "source": [
    "#Create a histogram to visualize the most common salary ranges for employees."
   ]
  },
  {
   "cell_type": "code",
   "execution_count": null,
   "id": "2ce3d21d",
   "metadata": {},
   "outputs": [],
   "source": [
    "#Create a bar chart of average salary by title."
   ]
  }
 ],
 "metadata": {
  "kernelspec": {
   "display_name": "Python [conda env:PythonData] *",
   "language": "python",
   "name": "conda-env-PythonData-py"
  },
  "language_info": {
   "codemirror_mode": {
    "name": "ipython",
    "version": 3
   },
   "file_extension": ".py",
   "mimetype": "text/x-python",
   "name": "python",
   "nbconvert_exporter": "python",
   "pygments_lexer": "ipython3",
   "version": "3.8.11"
  }
 },
 "nbformat": 4,
 "nbformat_minor": 5
}
